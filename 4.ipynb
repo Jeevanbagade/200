{
 "cells": [
  {
   "cell_type": "code",
   "execution_count": 2,
   "metadata": {},
   "outputs": [
    {
     "name": "stdout",
     "output_type": "stream",
     "text": [
      "12.568\n"
     ]
    }
   ],
   "source": [
    "r=int(input(\"enter the r value\"))\n",
    "cal=3.142*r*r\n",
    "print(cal)"
   ]
  },
  {
   "cell_type": "code",
   "execution_count": 3,
   "metadata": {},
   "outputs": [
    {
     "name": "stdout",
     "output_type": "stream",
     "text": [
      "before swap a 2 b 3\n",
      "after swap 3 2\n"
     ]
    }
   ],
   "source": [
    "a=int(input(\"enter the a value\"))\n",
    "b=int(input(\"enter the b value\"))\n",
    "print(\"before swap a=\",a,\"b=\",b)\n",
    "t=a\n",
    "a=b\n",
    "b=t\n",
    "print(\"after swap\",a,b)\n"
   ]
  },
  {
   "cell_type": "code",
   "execution_count": 17,
   "metadata": {},
   "outputs": [
    {
     "name": "stdout",
     "output_type": "stream",
     "text": [
      "[(0, 'eat'), (1, 'sleep'), (2, 'repeat')]\n",
      "[(2, 'p'), (3, 'y'), (4, 't'), (5, 'h'), (6, 'o'), (7, 'n')]\n",
      "<class 'enumerate'>\n",
      "0||eat\n",
      "1||sleep\n",
      "2||repeat\n",
      "sleep\n"
     ]
    }
   ],
   "source": [
    "L1=[\"eat\",\"sleep\",\"repeat\"]\n",
    "s1=\"python\"\n",
    "obj1=enumerate(L1)\n",
    "obj2=enumerate(s1)\n",
    "print(list(enumerate(L1)))\n",
    "print(list(enumerate(s1,2)))\n",
    "print(type(obj1))\n",
    "\n",
    "for i,j in enumerate(L1):\n",
    "    print(i,j,sep='||')\n",
    "print(L1[1])\n"
   ]
  },
  {
   "cell_type": "code",
   "execution_count": 21,
   "metadata": {},
   "outputs": [
    {
     "name": "stdout",
     "output_type": "stream",
     "text": [
      "[1, 2, 3, 4, 5, 6, 7, 8, 9, 10]\n",
      "[1, 3, 5, 7, 9]\n"
     ]
    }
   ],
   "source": [
    "list1=[1,2,3,4,5,6,7,8,9,10]\n",
    "print(list1)\n",
    "\n",
    "newlist=[i for i in list1 if i % 2==1]\n",
    "print(newlist)"
   ]
  },
  {
   "cell_type": "code",
   "execution_count": 9,
   "metadata": {},
   "outputs": [
    {
     "name": "stdout",
     "output_type": "stream",
     "text": [
      "9.92\n"
     ]
    }
   ],
   "source": [
    "km=float(input(\"enter the km\"))\n",
    "cr=0.62\n",
    "m=km*cr\n",
    "print(m)\n"
   ]
  },
  {
   "cell_type": "code",
   "execution_count": 35,
   "metadata": {},
   "outputs": [
    {
     "name": "stdout",
     "output_type": "stream",
     "text": [
      "[[0, 1, 2, 3, 4, 5], [0, 1, 2, 3, 4, 5], [0, 1, 2, 3, 4, 5]]\n"
     ]
    }
   ],
   "source": [
    "matrix = []\n",
    "\n",
    "for i in range(3):\n",
    "\t\n",
    "\tmatrix.append([])\n",
    "\n",
    "\tfor j in range(6):\n",
    "\t\t\n",
    "\t\tmatrix[i].append(j)\n",
    "\tmatrix()\t\t\n",
    "print(matrix)\n"
   ]
  }
 ],
 "metadata": {
  "kernelspec": {
   "display_name": "Python 3",
   "language": "python",
   "name": "python3"
  },
  "language_info": {
   "codemirror_mode": {
    "name": "ipython",
    "version": 3
   },
   "file_extension": ".py",
   "mimetype": "text/x-python",
   "name": "python",
   "nbconvert_exporter": "python",
   "pygments_lexer": "ipython3",
   "version": "3.11.2"
  },
  "orig_nbformat": 4
 },
 "nbformat": 4,
 "nbformat_minor": 2
}
