{
 "cells": [
  {
   "cell_type": "code",
   "execution_count": 1,
   "metadata": {},
   "outputs": [
    {
     "name": "stdout",
     "output_type": "stream",
     "text": [
      "['s5', 'TV Show', 'Kota Factory', '', 'Mayur More, Jitendra Kumar, Ranjan Raj, Alam Khan, Ahsaas Channa, Revathi Pillai, Urvi Singh, Arun Kumar', 'India', 'September 24, 2021', '2021', 'TV-MA', '2 Seasons', 'International TV Shows, Romantic TV Shows, TV Comedies', 'In a city of coaching centers known to train India’s finest collegiate minds, an earnest but unexceptional student and his friends navigate campus life.']\n",
      "['s267', 'TV Show', 'The Creative Indians', '', '', 'India', 'August 15, 2021', '2020', 'TV-MA', '1 Season', 'Docuseries, International TV Shows', 'From chefs and comedians to filmmakers and fashion designers, India’s most notable imaginative minds share their artistic journeys.']\n",
      "['s298', 'TV Show', 'Navarasa', 'Bejoy Nambiar, Priyadarshan, Karthik Narain, Vasanth Sai, Karthik Subbaraj, Arvind Swamy, Rathindran R Prasad, Sarjun, Gautham Vasudev Menon', 'Suriya, Vijay Sethupathi, Revathy, Prakash Raj, Siddarth, Parvathy, Delhi Ganesh, Gautham Vasudev Menon, Anjali, Yogi Babu, Aditi Balan, Remya Nambeesan, Poorna, Prayaga Martin, Rythvika Suriya, Arvind Swamy, Prasanna, Atharva, Bobby Simha, Ashok Selvan, Nedumudi Venu, Kishore', 'India', 'August 6, 2021', '2021', 'TV-MA', '1 Season', 'TV Shows', 'From amusement to awe, the nine human emotions of Indian aesthetic theory are explored in this anthology series.']\n",
      "['s877', 'TV Show', 'Alma Matters', '', '', 'India', 'May 14, 2021', '2021', 'TV-MA', '1 Season', 'Docuseries, International TV Shows', 'Alumni of India’s elite academic institutes share the harsh realities, pleasant surprises and transformative journeys of their college experiences.']\n",
      "['s1228', 'TV Show', 'Bombay Begums', '', 'Pooja Bhatt, Shahana Goswami, Amruta Subhash, Plabita Borthakur, Aadhya Anand, Manish Chaudhary, Vivek Gomber, Danish Husain, Rahul Bose, Imaaduddin Shah, Sanghmitra Hitaishi', 'India', 'March 8, 2021', '2021', 'TV-MA', '1 Season', 'International TV Shows, TV Dramas', \"From boardrooms to society's margins, five ambitious women from various walks of life navigate dreams, desires and disappointments in modern Mumbai.\"]\n",
      "['s1283', 'TV Show', 'Zindagi in Short', '', '', 'India', 'February 22, 2021', '2020', 'TV-MA', '1 Season', 'International TV Shows, TV Dramas', 'Complicated marriages, digital romances, domestic dilemmas and schoolyard bullies get the spotlight in these seven, slice-of-life short films.']\n",
      "['s1294', 'TV Show', 'Pitta Kathalu', 'Tharun Bhascker Dhaassyam, B. V. Nandini Reddy, Nag Ashwin, Sankalp Reddy', 'Manchu Lakshmi, Saanve Megghana, Naveen Kumar, Jagapathi Babu, Amala Paul, Aswin Kakamanu, Shruthi Haasan, Sanjith Hegde, Sangeeth Shoban, Anish Kuruvilla, Uko, Dayanand Reddy, Thanmayi, Satya Dev, Eesha Rebba, Srinivas Avasarala, Ashima Narwal', 'India', 'February 19, 2021', '2021', 'TV-MA', '1 Season', 'International TV Shows, TV Dramas', 'From secrets and lies to jealousy and control, four stories in this anthology film explore the darker, deceptive sides of love.']\n",
      "['s1521', 'TV Show', 'Paava Kadhaigal', 'Sudha Kongara, Vignesh Shivan, Gautham Vasudev Menon, Vetri Maaran', 'Kalidas Jayaram, Shanthnu Bhagyaraj, Bhavani Sre, Kalki Koechlin, Anjali, Padam Kumar, Prakash Raj, Sai Pallavi, Hari, Gautham Vasudev Menon, Simran', 'India', 'December 18, 2020', '2020', 'TV-MA', '1 Season', 'International TV Shows, TV Dramas', 'At times dark, at times disturbing, four short films explore stories of those who dare to dream and desire — and those determined to stand in their way.']\n",
      "['s1590', 'TV Show', 'Bhaag Beanie Bhaag', '', 'Swara Bhasker, Dolly Singh, Ravi Patel, Varun Thakur, Mona Ambegaonkar, Girish Kulkarni', 'India', 'December 4, 2020', '2020', 'TV-MA', '1 Season', 'International TV Shows, Romantic TV Shows, TV Comedies', 'Facing disapproving parents, a knotty love life and her own inner critic, an aspiring comic ditches her cushy but unsatisfying life to pursue stand-up.']\n",
      "['s1639', 'TV Show', 'Fabulous Lives of Bollywood Wives', '', '', 'India', 'November 27, 2020', '2020', 'TV-MA', '1 Season', 'International TV Shows, Reality TV', 'Cameras follow the banter and bonding between four fun-loving women from Bollywood’s inner circle as they juggle professions, family and friendship.']\n",
      "['s1671', 'TV Show', 'Mismatched', '', 'Prajakta Koli, Rohit Saraf, Vihaan Samat, Taaruk Raina, Vidya Malavade, Kritika Bharadwaj, Rannvijay Singh, Muskkaan Jaferi, Devyani Shorey, Suhasini Mulay, Abhinav Sharma, Ravin Makhija', 'India', 'November 20, 2020', '2020', 'TV-MA', '1 Season', 'International TV Shows, Romantic TV Shows, TV Comedies', 'After a disastrous set-up by their families, two teens strike up a tentative friendship at their summer program — but deeper feelings aren’t far behind.']\n",
      "['s2087', 'TV Show', 'Masaba Masaba', '', 'Masaba Gupta, Neena Gupta, Neil Bhoopalam, Rytasha Rathore, Smaran Sahu, Nayan Shukla, Pooja Bedi, Satyadeep Misra', 'India', 'August 28, 2020', '2020', 'TV-MA', '1 Season', 'International TV Shows, TV Comedies, TV Dramas', 'Real life mom-daughter duo Neena and Masaba Gupta play versions of themselves in this playful, fictional peek into their lives in fashion and film.']\n",
      "['s2473', 'TV Show', 'Betaal', '', 'Viineet Kumar, Aahana Kumra, Suchitra Pillai, Jatin Goswami, Siddharth Menon, Manjiri Pupala, Yashwant Wasnik, Savita Bajaj, Jitendra Joshi, Syna Anand', 'India', 'May 24, 2020', '2020', 'TV-MA', '1 Season', 'International TV Shows, TV Action & Adventure, TV Horror', 'Hired to displace tribal villagers to make way for a new highway, officials unearth an old curse and an army of British soldier-zombies.']\n",
      "['s2671', 'TV Show', 'Hasmukh', '', 'Vir Das, Ranvir Shorey, Manoj Pahwa, Ravi Kishan, Raza Murad, Inaamulhaq, Suhail Nayyar, Amrita Bagchi', 'India', 'April 17, 2020', '2020', 'TV-MA', '1 Season', 'Crime TV Shows, International TV Shows, TV Comedies', \"A timid, small-town comedian's long-awaited big break takes a dark turn when he realizes committing murder is the only way to keep his onstage mojo.\"]\n",
      "['s2766', 'TV Show', 'Ladies Up', '', 'Prashasti Singh, Kaneez Surka, Niveditha Prakasam, Supriya Joshi', 'India', 'March 27, 2020', '2019', 'TV-MA', '1 Season', 'International TV Shows, Stand-Up Comedy & Talk Shows, TV Comedies', 'Rising India-based comics Prashasti Singh, Kaneez Surka, Supriya Joshi and Niveditha Prakasam bring no-holds-barred humor to this stand-up series.']\n",
      "['s2793', 'TV Show', 'She', '', 'Aaditi Pohankar, Vijay Varma, Vishwas Kini, Kishore Kumar G., Shivani Rangole, Suhita Thatte, Sandeep Dhabale, Saqib Ayub', 'India', 'March 20, 2020', '2020', 'TV-MA', '1 Season', 'Crime TV Shows, International TV Shows, TV Dramas', \"An undercover assignment to expose a drug ring becomes a timid Mumbai constable’s road to empowerment as she realizes her dormant sexuality's potential.\"]\n",
      "['s2918', 'TV Show', 'Taj Mahal 1989', '', 'Neeraj Kabi, Geetanjali Kulkarni, Danish Husain, Sheeba Chaddha, Paras Priyadarshan, Anshul Chauhan, Anud Singh Dhaka, Shirin Sewani, Mihir Ahuja, Vasundhara Rajput', 'India', 'February 14, 2020', '2020', 'TV-MA', '1 Season', 'International TV Shows, Romantic TV Shows, TV Comedies', 'In and around Lucknow University in 1989, couples of varying ages explore the politics of love through marriage, budding romances and friendships.']\n",
      "['s3037', 'TV Show', 'Jamtara - Sabka Number Ayega', 'Soumendra Padhi', 'Amit Sial, Dibyendu Bhattacharya, Aksha Pardhasany, Sparsh Shrivastava, Monika Panwar, Anshumaan Pushkar', 'India', 'January 10, 2020', '2020', 'TV-MA', '1 Season', 'Crime TV Shows, International TV Shows, TV Dramas', 'A group of small-town young men run a lucrative phishing operation, until a corrupt politician wants in on their scheme – and a cop wants to fight it.']\n",
      "['s3294', 'TV Show', 'Little Things', '', 'Dhruv Sehgal, Mithila Palkar', 'India', 'November 9, 2019', '2019', 'TV-MA', '3 Seasons', 'International TV Shows, Romantic TV Shows, TV Comedies', 'A cohabiting couple in their 20s navigate the ups and downs of work, modern-day relationships and finding themselves in contemporary Mumbai.']\n",
      "['s3464', 'TV Show', 'College Romance', '', 'Manjot Singh, Apoorva Arora, Keshav Sadhna, Shreya Mehta, Hira Ashar, Gagan Arora', 'India', 'October 1, 2019', '2018', 'TV-MA', '1 Season', 'International TV Shows, Romantic TV Shows, TV Comedies', 'Three best friends look for love, laughs and some lifelong memories while attending college together.']\n",
      "['s3465', 'TV Show', 'Engineering Girls', '', 'Barkha Singh, Kritika Avasthi, Sejal Kumar', 'India', 'October 1, 2019', '2018', 'TV-MA', '1 Season', 'International TV Shows, TV Comedies', 'Three engineering students deal with dorm drama, date around, and do whatever it takes to make their dreams come true.']\n",
      "['s3467', 'TV Show', 'Girls Hostel', '', 'Srishti Shrivastava, Parul Gulati, Simran Natekar, Ahsaas Channa, Shreya Mehta, Gagan Arora, Trupti Khamkar, Khushbu Baid', 'India', 'October 1, 2019', '2018', 'TV-MA', '1 Season', 'International TV Shows, TV Comedies, TV Dramas', 'Four girls from different backgrounds become unlikely friends when they move into a dormitory for female dental students.']\n",
      "['s3468', 'TV Show', 'Inmates', '', 'Kashyap Kapoor, Ashish Verma, Raghav Raj Kakker, Mukti Mohan, Akanksha Thakur', 'India', 'October 1, 2019', '2017', 'TV-MA', '1 Season', 'International TV Shows, TV Comedies', 'While living under one roof, five close-knit 20-somethings maneuver the highs and lows of friendship, romantic entanglements and finding themselves.']\n",
      "['s3482', 'TV Show', 'Bard of Blood', '', 'Emraan Hashmi, Viineet Kumar, Sobhita Dhulipala, Jaideep Ahlawat, Kirti Kulhari, Sohum Shah, Rajit Kapoor, Danish Hussain', 'India', 'September 27, 2019', '2019', 'TV-MA', '1 Season', 'International TV Shows, TV Action & Adventure, TV Dramas', 'Years after a disastrous job in Balochistan, a former Indian spy must confront his past when he returns to lead an unsanctioned hostage-rescue mission.']\n",
      "['s3656', 'TV Show', 'Typewriter', '', 'Aarna Sharma, Aaryansh Malviya, Mikail Gandhi, Palash Kamble, Jishu Sengupta, Palomi Ghosh, Purab Kohli, Sameer Kochhar, Sara Gesawat', 'India', 'July 19, 2019', '2019', 'TV-MA', '1 Season', 'International TV Shows, TV Horror, TV Mysteries', 'Three young friends in Goa plan to search an old villa for ghosts, but when a new family moves in, the home’s buried past resurfaces in chilling ways.']\n",
      "['s3751', 'TV Show', 'Leila', '', 'Huma Qureshi, Siddharth, Rahul Khanna, Arif Zakaria, Seema Biswas, Sanjay Suri, Akash Khurana, Ashwath Bhatt, Anupam Bhattacharya, Adarsh Gourav', 'India', 'June 14, 2019', '2019', 'TV-MA', '1 Season', 'British TV Shows, International TV Shows, TV Dramas', 'In a near-future world where an oppressive regime segregates society, one woman skirts the system to search for the daughter taken from her years ago.']\n",
      "['s3982', 'TV Show', 'Delhi Crime', '', 'Shefali Shah, Rajesh Tailang, Rasika Dugal, Adil Hussain, Vinod Sharawat, Mridul Sharma, Gopal Dutt Tiwari, Anurag Arora, Gaurav Rana, Yashaswini Dayama', 'India', 'March 22, 2019', '2019', 'TV-MA', '1 Season', 'Crime TV Shows, International TV Shows, TV Dramas', 'As Delhi reels in the aftermath of a gang rape, DCP Vartika Chaturvedi leads a painstaking search for the culprits. Based on the 2012 Nirbhaya case.']\n",
      "['s4055', 'TV Show', 'Cricket Fever: Mumbai Indians', '', '', 'India', 'March 1, 2019', '2019', 'TV-MA', '1 Season', 'Docuseries, International TV Shows', 'Follow Indian Premier League champions Mumbai Indians through the 2018 season in this series featuring insider insights and intense cricket action.']\n",
      "['s4686', 'TV Show', 'GHOUL', 'Patrick Graham', 'Radhika Apte, Manav Kaul, Ratnabali Bhattacharjee, Mahesh Balraj', 'India', 'August 24, 2018', '2018', 'TV-MA', '1 Season', 'International TV Shows, TV Dramas, TV Horror', 'When a new prisoner at a military detention center exhibits eerie behavior, a young interrogator’s search for the truth becomes a battle for survival.']\n",
      "['s6569', 'TV Show', 'Darr Sabko Lagta Hai', '', 'Bipasha Basu', 'India', 'March 1, 2018', '2015', 'TV-MA', '1 Season', 'International TV Shows, TV Horror, TV Thrillers', 'In this chilling horror anthology series, actress and model Bipasha Basu meets people who have had disconcerting paranormal experiences.']\n",
      "['s6745', 'TV Show', 'Fear Files... Har Mod Pe Darr', '', '', 'India', 'June 1, 2017', '2015', 'TV-MA', '1 Season', 'International TV Shows, TV Horror, TV Thrillers', 'Possessed lovers, witches, haunted houses and more bring tales of horror to the screen in this anthology series.']\n",
      "['s8174', 'TV Show', 'Thackeray', '', '', 'India', 'May 25, 2019', '2019', 'TV-MA', '1 Season', 'TV Shows', 'From controversial cartoonist to powerful Mumbai politician, this biopic maps the meteoric rise of far-right Shiv Sena party founder, Bal Thackeray.']\n",
      "['s8236', 'TV Show', 'The Calling', 'Bumpy', '', 'India', 'April 1, 2019', '2018', 'TV-MA', '1 Season', 'International TV Shows, Reality TV', 'Food-crazed travel junkies journey across India, completing bucket list challenges for a chance to win a once-in-a-lifetime scholarship.']\n"
     ]
    }
   ],
   "source": [
    "import csv\n",
    "with open(\"/Users/jeevan/Downloads/es.csv\",\"r\")as netflix:\n",
    "    file=csv.reader(netflix)\n",
    "\n",
    "    for i in file:\n",
    "        if i[1]==\"TV Show\":\n",
    "            if i[5]==\"India\":\n",
    "                if i[8]==\"TV-MA\":\n",
    "                    print(i)"
   ]
  }
 ],
 "metadata": {
  "kernelspec": {
   "display_name": "Python 3",
   "language": "python",
   "name": "python3"
  },
  "language_info": {
   "codemirror_mode": {
    "name": "ipython",
    "version": 3
   },
   "file_extension": ".py",
   "mimetype": "text/x-python",
   "name": "python",
   "nbconvert_exporter": "python",
   "pygments_lexer": "ipython3",
   "version": "3.11.2"
  },
  "orig_nbformat": 4
 },
 "nbformat": 4,
 "nbformat_minor": 2
}
