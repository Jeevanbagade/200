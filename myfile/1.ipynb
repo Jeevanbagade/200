{
 "cells": [
  {
   "cell_type": "code",
   "execution_count": 46,
   "metadata": {},
   "outputs": [
    {
     "name": "stdout",
     "output_type": "stream",
     "text": [
      "6\n",
      "6\n",
      "6\n",
      "6\n",
      "6\n",
      "['  A \\n', '   B \\n', '   C \\n', '   D \\n', '   E \\n', ' ']\n"
     ]
    }
   ],
   "source": [
    "name=['A','B','C','D','E']\n",
    "\n",
    "fd=open(r\"myfiles.txt\",\"w\")\n",
    "for i in name:\n",
    "    i=str(\"  \")  +  i  +  str(\" \\n \")\n",
    "    val=fd.write(i)\n",
    "    print(val)\n",
    "fd.close()\n",
    "\n",
    "fd=open(r\"myfiles.txt\",\"r\")\n",
    "file_data=fd.readlines()\n",
    "print(file_data)\n",
    "fd.close()"
   ]
  },
  {
   "cell_type": "code",
   "execution_count": 53,
   "metadata": {},
   "outputs": [
    {
     "name": "stdout",
     "output_type": "stream",
     "text": [
      "6\n",
      "6\n",
      "6\n"
     ]
    },
    {
     "ename": "IndexError",
     "evalue": "list index out of range",
     "output_type": "error",
     "traceback": [
      "\u001b[0;31m---------------------------------------------------------------------------\u001b[0m",
      "\u001b[0;31mIndexError\u001b[0m                                Traceback (most recent call last)",
      "Cell \u001b[0;32mIn[53], line 6\u001b[0m\n\u001b[1;32m      4\u001b[0m fd\u001b[39m=\u001b[39m\u001b[39mopen\u001b[39m(\u001b[39mr\u001b[39m\u001b[39m\"\u001b[39m\u001b[39mmyfiles.txt\u001b[39m\u001b[39m\"\u001b[39m,\u001b[39m\"\u001b[39m\u001b[39mw\u001b[39m\u001b[39m\"\u001b[39m)\n\u001b[1;32m      5\u001b[0m \u001b[39mfor\u001b[39;00m i \u001b[39min\u001b[39;00m \u001b[39mrange\u001b[39m(\u001b[39m5\u001b[39m):\n\u001b[0;32m----> 6\u001b[0m     record\u001b[39m=\u001b[39mname[i]\u001b[39m+\u001b[39m\u001b[39mstr\u001b[39m(\u001b[39m\"\u001b[39m\u001b[39m   \u001b[39m\u001b[39m\"\u001b[39m)\u001b[39m+\u001b[39m\u001b[39mstr\u001b[39m(grades[i])\u001b[39m+\u001b[39m\u001b[39mstr\u001b[39m(\u001b[39m\"\u001b[39m\u001b[39m\\n\u001b[39;00m\u001b[39m\"\u001b[39m)\n\u001b[1;32m      7\u001b[0m     val\u001b[39m=\u001b[39mfd\u001b[39m.\u001b[39mwrite(record)\n\u001b[1;32m      8\u001b[0m     \u001b[39mprint\u001b[39m(val)\n",
      "\u001b[0;31mIndexError\u001b[0m: list index out of range"
     ]
    }
   ],
   "source": [
    "name=['A','B','C']\n",
    "grades=['1','2','3']\n",
    "\n",
    "fd=open(r\"myfiles.txt\",\"w\")\n",
    "for i in range(5):\n",
    "    record=name[i]+str(\"   \")+str(grades[i])+str(\"\\n\")\n",
    "    val=fd.write(record)\n",
    "    print(val)\n",
    "fd.close()\n",
    "\n",
    "fd=open(r\"myfiles.txt\",\"r\")\n",
    "file_data=fd.readlines(1)\n",
    "print(file_data)\n",
    "fd.close()\n"
   ]
  },
  {
   "cell_type": "code",
   "execution_count": 52,
   "metadata": {},
   "outputs": [
    {
     "name": "stdout",
     "output_type": "stream",
     "text": [
      "A   1\n",
      "B   2\n",
      "C   3\n",
      "\n"
     ]
    }
   ],
   "source": [
    "fd=open(\"myfiles.txt\",\"r\")\n",
    "print(fd.read())\n",
    "fd.read()\n",
    "fd.close()"
   ]
  },
  {
   "cell_type": "code",
   "execution_count": 14,
   "metadata": {},
   "outputs": [
    {
     "name": "stdout",
     "output_type": "stream",
     "text": [
      "ur ans is  0\n"
     ]
    }
   ],
   "source": [
    "def div(x,y):\n",
    "    try:\n",
    "        res=x//y\n",
    "        print(\"ur ans is \",res)\n",
    "    except ZeroDivisionError:\n",
    "        print(\"sorry!  \")\n",
    "div(0,4)"
   ]
  },
  {
   "cell_type": "code",
   "execution_count": null,
   "metadata": {},
   "outputs": [],
   "source": [
    "def div(x,y):\n",
    "    try:\n",
    "        res=x//y\n",
    "        print(\"ur ans is \",res)\n",
    "    except ZeroDivisionError:\n",
    "        print(\"sorry!  \")\n",
    "div(0,4)"
   ]
  },
  {
   "cell_type": "code",
   "execution_count": 48,
   "metadata": {},
   "outputs": [
    {
     "name": "stdout",
     "output_type": "stream",
     "text": [
      "sorry its an value error\n"
     ]
    }
   ],
   "source": [
    "import math\n",
    "a=int(input(\"enter the a value\"))\n",
    "try:\n",
    "    print(math.sqrt(a))\n",
    "except ValueError:\n",
    "    print(\"its can't  \")\n"
   ]
  },
  {
   "cell_type": "code",
   "execution_count": 52,
   "metadata": {},
   "outputs": [
    {
     "name": "stdout",
     "output_type": "stream",
     "text": [
      "finally block excuted\n"
     ]
    }
   ],
   "source": [
    "def func():\n",
    "    try:\n",
    "        fd=open(\"a.txt\",\"w\")\n",
    "        fd.write(\"hello python\")\n",
    "\n",
    "    except:\n",
    "        print(\"Exception raised\")\n",
    "    finally:\n",
    "        print(\"finally block excuted\")\n",
    "func()"
   ]
  }
 ],
 "metadata": {
  "kernelspec": {
   "display_name": "Python 3",
   "language": "python",
   "name": "python3"
  },
  "language_info": {
   "codemirror_mode": {
    "name": "ipython",
    "version": 3
   },
   "file_extension": ".py",
   "mimetype": "text/x-python",
   "name": "python",
   "nbconvert_exporter": "python",
   "pygments_lexer": "ipython3",
   "version": "3.11.2"
  },
  "orig_nbformat": 4
 },
 "nbformat": 4,
 "nbformat_minor": 2
}
