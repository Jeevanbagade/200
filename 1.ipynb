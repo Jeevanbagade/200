{
 "cells": [
  {
   "cell_type": "code",
   "execution_count": null,
   "metadata": {},
   "outputs": [],
   "source": [
    "# Write a program to find the eldest among three persons age received from the user\n",
    "p1=int(input(\"enter the age of first person\"))\n",
    "p2=int(input(\"enter the age of second person\"))\n",
    "p3=int(input(\"enter the age of third person\"))\n",
    "if ((p1>p2) and (p1>p3)):\n",
    "    print(\"p1 is elder\",p1)\n",
    "elif((p2>p1) and (p2>p3)):\n",
    "    print(\"p2 is elder\",p2)\n",
    "else:\n",
    "    print(\"p3 is elder\",p3)\n",
    "    "
   ]
  },
  {
   "cell_type": "code",
   "execution_count": null,
   "metadata": {},
   "outputs": [],
   "source": [
    "#Write a program to check the number record from the user is positive or negative\n",
    "number=int(input(\"enter any number\"))\n",
    "if number>0:\n",
    "    print(\"Entered Number is positive\")\n",
    "elif number<0:\n",
    "    print(\"Entered Number is Negative\")\n",
    "else:\n",
    "    print(\"Entered number is Zero\")"
   ]
  },
  {
   "cell_type": "code",
   "execution_count": null,
   "metadata": {},
   "outputs": [],
   "source": [
    "#Write a program to accept two numbers and mathemetical operator and perform operations accordingly\n",
    "a=float(input(\"enter first number\"))\n",
    "b=float(input(\"enter second number\"))\n",
    "print(\"Add of two number's :\",a+b)\n",
    "print(\"Sub of two number's is:\",a-b)\n",
    "print(\"Multi of two number's is:\",a*b)\n",
    "print(\"Div of two number's is:\",a/b)\n",
    "print(\"modulus of two number's is:\",a%b)"
   ]
  },
  {
   "cell_type": "code",
   "execution_count": null,
   "metadata": {},
   "outputs": [],
   "source": [
    "#Write a program if you have written an exam for a total score of 100 and if you score\n",
    "#is above or equal to 35 then you will be considered as PASS in the exam\n",
    "total=100\n",
    "marks=float(input(\"enter marks\"))\n",
    "if ((marks>=35) and (total>=marks)):\n",
    "    print(\"PASS\")\n",
    "    "
   ]
  }
 ],
 "metadata": {
  "kernelspec": {
   "display_name": "Python 3",
   "language": "python",
   "name": "python3"
  },
  "language_info": {
   "name": "python",
   "version": "3.11.2"
  },
  "orig_nbformat": 4
 },
 "nbformat": 4,
 "nbformat_minor": 2
}
