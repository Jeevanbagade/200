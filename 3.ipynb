{
 "cells": [
  {
   "cell_type": "code",
   "execution_count": 6,
   "metadata": {},
   "outputs": [
    {
     "name": "stdout",
     "output_type": "stream",
     "text": [
      "the pricipal is 100.0\n",
      "the time is 10.0\n",
      "the rate is 2.0\n",
      "the simple interset is 20.0\n"
     ]
    },
    {
     "data": {
      "text/plain": [
       "20.0"
      ]
     },
     "execution_count": 6,
     "metadata": {},
     "output_type": "execute_result"
    }
   ],
   "source": [
    "def si():\n",
    "    p=float(input(\"enter the p value\"))\n",
    "    t=float(input(\"enter the t value\"))\n",
    "    r=float(input(\"enter the r value\"))\n",
    "    print(\"the pricipal is\",p)\n",
    "    print(\"the time is\",t)\n",
    "    print(\"the rate is\",r)\n",
    "    si=(p*t*r)/100\n",
    "    print(\"the simple interset is\",si)\n",
    "    return si\n",
    "si()"
   ]
  },
  {
   "cell_type": "code",
   "execution_count": 9,
   "metadata": {},
   "outputs": [
    {
     "name": "stdout",
     "output_type": "stream",
     "text": [
      "0.609\n"
     ]
    }
   ],
   "source": [
    "def comi():\n",
    "    p=float(input(\"enter the p value\"))\n",
    "    t=float(input(\"enter the t value\"))\n",
    "    r=float(input(\"enter the t value\"))\n",
    "    a=p*(1+(r/100))**t\n",
    "    ci=a-p\n",
    "    return ci\n",
    "ans=comi()\n",
    "print(ans)\n",
    "\n"
   ]
  }
 ],
 "metadata": {
  "kernelspec": {
   "display_name": "Python 3",
   "language": "python",
   "name": "python3"
  },
  "language_info": {
   "codemirror_mode": {
    "name": "ipython",
    "version": 3
   },
   "file_extension": ".py",
   "mimetype": "text/x-python",
   "name": "python",
   "nbconvert_exporter": "python",
   "pygments_lexer": "ipython3",
   "version": "3.11.2"
  },
  "orig_nbformat": 4
 },
 "nbformat": 4,
 "nbformat_minor": 2
}
